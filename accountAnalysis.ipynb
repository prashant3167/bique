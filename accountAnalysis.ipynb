{
 "cells": [
  {
   "cell_type": "code",
   "execution_count": 7,
   "id": "a821891f-5f56-4534-a3b8-e07b53142766",
   "metadata": {},
   "outputs": [],
   "source": [
    "import pyspark\n",
    "from pyspark.sql import SparkSession\n",
    "from pyspark.sql.functions import col, sum, count, explode, year, month, to_date\n",
    "from pyspark.sql.types import DoubleType\n",
    "from hdfs.ext.kerberos import KerberosClient"
   ]
  },
  {
   "cell_type": "code",
   "execution_count": 8,
   "id": "81f8d731-b3be-4368-adb3-e207b520d9e0",
   "metadata": {},
   "outputs": [],
   "source": [
    "import numpy as np\n",
    "import pandas as pd\n",
    "import plotly.express as px\n",
    "import plotly.graph_objects as go\n",
    "import plotly.io as pio\n",
    "from plotly.subplots import make_subplots\n",
    "import seaborn as sns\n",
    "import matplotlib.pyplot as plt\n",
    "import warnings\n",
    "from scipy.stats import boxcox\n",
    "from statsmodels.api import qqplot\n",
    "from statsmodels.tsa.stattools import adfuller\n",
    "from statsmodels.graphics.tsaplots import plot_acf, plot_pacf\n",
    "from statsmodels.tsa.arima.model import ARIMA\n",
    "from statsmodels.tsa.statespace.sarimax import SARIMAX\n",
    "from pmdarima.arima import auto_arima\n",
    "from pmdarima.utils import diff_inv\n",
    "from sklearn.metrics import mean_squared_error\n",
    "import datetime\n",
    "from datetime import datetime\n",
    "\n",
    "%matplotlib inline\n",
    "warnings.filterwarnings(\"ignore\")\n",
    "sns.set(rc = {'figure.figsize': (5, 3)})\n",
    "plt.style.use(\"fivethirtyeight\")\n",
    "rand_val = 765"
   ]
  },
  {
   "cell_type": "code",
   "execution_count": 9,
   "id": "9990505a-8b94-4d31-83f4-95e62460bb79",
   "metadata": {},
   "outputs": [],
   "source": [
    "from datetime import date, datetime\n",
    "from dateutil.relativedelta import relativedelta"
   ]
  },
  {
   "cell_type": "code",
   "execution_count": 10,
   "id": "1e292f2b-06c1-468c-91c6-a5f7f14f7dc2",
   "metadata": {},
   "outputs": [],
   "source": [
    "spark = SparkSession.builder.appName(\"Read from HDFS\").getOrCreate()"
   ]
  },
  {
   "cell_type": "code",
   "execution_count": 11,
   "id": "cc07ddaf-3207-430f-8237-07b299042dd6",
   "metadata": {},
   "outputs": [],
   "source": [
    "hdfs_client = KerberosClient('http://10.4.41.51:9870')\n",
    "all_files = hdfs_client.list('/user/bdm/formatted_data/bique.transactions')"
   ]
  },
  {
   "cell_type": "code",
   "execution_count": 12,
   "id": "08f1a939-d2de-496f-ad41-d737e9f0a837",
   "metadata": {},
   "outputs": [
    {
     "name": "stdout",
     "output_type": "stream",
     "text": [
      "ES02JHOP23942038749660\n"
     ]
    }
   ],
   "source": [
    "file_path = 'hdfs://10.4.41.51:27000/user/bdm/formatted_data/bique.transactions/'\n",
    "file_name = all_files[1]\n",
    "if file_name != '_SUCCESS':\n",
    "    file_path += file_name\n",
    "    print(file_name[20:])"
   ]
  },
  {
   "cell_type": "code",
   "execution_count": 14,
   "id": "ba33fdcc-e65f-40ce-822f-04c45cbb85ca",
   "metadata": {},
   "outputs": [
    {
     "data": {
      "text/plain": [
       "20"
      ]
     },
     "execution_count": 14,
     "metadata": {},
     "output_type": "execute_result"
    }
   ],
   "source": [
    "len('fullDocument_source=')"
   ]
  },
  {
   "cell_type": "code",
   "execution_count": 15,
   "id": "6ab2b08e-fa61-4109-871b-4aca888f99b4",
   "metadata": {},
   "outputs": [],
   "source": [
    "data = spark.read.parquet(file_path)"
   ]
  },
  {
   "cell_type": "code",
   "execution_count": 16,
   "id": "c2ff84a2-7f76-462c-87b9-a711cf67063a",
   "metadata": {},
   "outputs": [],
   "source": [
    "# data transformations\n",
    "data = data.withColumn(\"fullDocument_transactionAmount\", col(\"fullDocument_transactionAmount_amount\").cast(DoubleType()))\n",
    "# data = data.withColumn(\"fullDocument_transactionAmount\", col(\"fullDocument_transactionAmount_amount\") * -1)\n",
    "# data = data.withColumn(\"transactionCategory\", explode(\"fullDocument_transactionInformation\"))\n",
    "data = data.withColumn(\"date\", to_date(\"fullDocument_date\"))"
   ]
  },
  {
   "cell_type": "code",
   "execution_count": 17,
   "id": "4165d17b-a52e-42da-b6d1-c31740088950",
   "metadata": {},
   "outputs": [],
   "source": [
    "columns = [\"date\",\"fullDocument_transactionAmount\"]\n",
    "df = data.select(columns).groupBy(\"date\").agg(sum(\"fullDocument_transactionAmount\").alias(\"amount\")).toPandas()"
   ]
  },
  {
   "cell_type": "code",
   "execution_count": 18,
   "id": "340f837f-0b94-4572-b250-03ce4fb5420d",
   "metadata": {},
   "outputs": [],
   "source": [
    "df['date'] = pd.to_datetime(df['date']).apply(lambda x : x.replace(day=1))\n",
    "df = df.groupby(\"date\").sum().sort_values('date', ascending = True)"
   ]
  },
  {
   "cell_type": "code",
   "execution_count": 19,
   "id": "f0e26bf0-7113-4ef1-9751-757dda35c259",
   "metadata": {},
   "outputs": [
    {
     "data": {
      "text/plain": [
       "(24, 31)"
      ]
     },
     "execution_count": 19,
     "metadata": {},
     "output_type": "execute_result"
    }
   ],
   "source": [
    "# creating training and validation, with a dynamic percentage split of 90%-10%, depending on the values available\n",
    "perc_split = int(len(df) * 0.8)\n",
    "perc_split, len(df)"
   ]
  },
  {
   "cell_type": "code",
   "execution_count": 20,
   "id": "1095f770-df19-4134-a5ac-efd500e597a2",
   "metadata": {},
   "outputs": [],
   "source": [
    "# train and validation here\n",
    "train_df = df.iloc[:perc_split]\n",
    "test_df = df.iloc[perc_split:]"
   ]
  },
  {
   "cell_type": "code",
   "execution_count": 21,
   "id": "4713c86c-e0e8-44b2-b1b9-2d0de7cb5f75",
   "metadata": {},
   "outputs": [],
   "source": [
    "# adding one row for prediction of next month's data\n",
    "test_df.loc[test_df.index[-1] + relativedelta(months=+1)] = 0"
   ]
  },
  {
   "cell_type": "code",
   "execution_count": 22,
   "id": "4bd4f0c0-0e24-46dc-8ad1-fd64652671e2",
   "metadata": {},
   "outputs": [
    {
     "data": {
      "text/plain": [
       "((24, 1), (8, 1))"
      ]
     },
     "execution_count": 22,
     "metadata": {},
     "output_type": "execute_result"
    }
   ],
   "source": [
    "train_df.shape, test_df.shape"
   ]
  },
  {
   "cell_type": "code",
   "execution_count": 23,
   "id": "8d6845dc-12e6-45d4-bb3b-667f5fb5f06f",
   "metadata": {},
   "outputs": [
    {
     "name": "stdout",
     "output_type": "stream",
     "text": [
      "ADF Statistic: -5.836679804278832\n",
      "p-value: 3.861911768577697e-07\n",
      "Critical Values:\n",
      "\t1%: -3.6699197407407405\n",
      "\t5%: -2.9640707407407407\n",
      "\t10%: -2.621171111111111\n"
     ]
    }
   ],
   "source": [
    "result = adfuller(df['amount'])\n",
    "print('ADF Statistic: {}'.format(result[0]))\n",
    "print('p-value: {}'.format(result[1]))\n",
    "print('Critical Values:')\n",
    "for key, value in result[4].items():\n",
    "    print('\\t{}: {}'.format(key, value))"
   ]
  },
  {
   "cell_type": "code",
   "execution_count": 24,
   "id": "bdd9343a-3c96-4c2e-bf7e-d98313d314b2",
   "metadata": {},
   "outputs": [],
   "source": [
    "model = ARIMA(train_df, order = (2,3,3)) #0,0,1"
   ]
  },
  {
   "cell_type": "code",
   "execution_count": 25,
   "id": "f75437f0-fbc6-45a3-8c69-21c6a9bfe525",
   "metadata": {},
   "outputs": [],
   "source": [
    "model_fit = model.fit()"
   ]
  },
  {
   "cell_type": "code",
   "execution_count": 26,
   "id": "26ec6d43-6576-4a16-976c-eafbf72ff708",
   "metadata": {},
   "outputs": [
    {
     "data": {
      "text/plain": [
       "2022-11-01    1385.245320\n",
       "2022-12-01    -449.902670\n",
       "2023-01-01     822.951683\n",
       "2023-02-01     855.250806\n",
       "2023-03-01     371.836414\n",
       "2023-04-01    1146.314551\n",
       "2023-05-01    1014.865430\n",
       "2023-06-01    1096.412103\n",
       "Freq: MS, Name: predicted_mean, dtype: float64"
      ]
     },
     "execution_count": 26,
     "metadata": {},
     "output_type": "execute_result"
    }
   ],
   "source": [
    "predictions = model_fit.predict(start=len(train_df), end=len(train_df) + len(test_df) - 1)\n",
    "predictions"
   ]
  },
  {
   "cell_type": "code",
   "execution_count": 27,
   "id": "b4135eb2-a470-45b1-9d90-abe383657473",
   "metadata": {},
   "outputs": [
    {
     "data": {
      "text/html": [
       "<div>\n",
       "<style scoped>\n",
       "    .dataframe tbody tr th:only-of-type {\n",
       "        vertical-align: middle;\n",
       "    }\n",
       "\n",
       "    .dataframe tbody tr th {\n",
       "        vertical-align: top;\n",
       "    }\n",
       "\n",
       "    .dataframe thead th {\n",
       "        text-align: right;\n",
       "    }\n",
       "</style>\n",
       "<table border=\"1\" class=\"dataframe\">\n",
       "  <thead>\n",
       "    <tr style=\"text-align: right;\">\n",
       "      <th></th>\n",
       "      <th>forecast</th>\n",
       "    </tr>\n",
       "  </thead>\n",
       "  <tbody>\n",
       "    <tr>\n",
       "      <th>2022-11-01</th>\n",
       "      <td>1385.245320</td>\n",
       "    </tr>\n",
       "    <tr>\n",
       "      <th>2022-12-01</th>\n",
       "      <td>-449.902670</td>\n",
       "    </tr>\n",
       "    <tr>\n",
       "      <th>2023-01-01</th>\n",
       "      <td>822.951683</td>\n",
       "    </tr>\n",
       "    <tr>\n",
       "      <th>2023-02-01</th>\n",
       "      <td>855.250806</td>\n",
       "    </tr>\n",
       "    <tr>\n",
       "      <th>2023-03-01</th>\n",
       "      <td>371.836414</td>\n",
       "    </tr>\n",
       "    <tr>\n",
       "      <th>2023-04-01</th>\n",
       "      <td>1146.314551</td>\n",
       "    </tr>\n",
       "    <tr>\n",
       "      <th>2023-05-01</th>\n",
       "      <td>1014.865430</td>\n",
       "    </tr>\n",
       "    <tr>\n",
       "      <th>2023-06-01</th>\n",
       "      <td>1096.412103</td>\n",
       "    </tr>\n",
       "  </tbody>\n",
       "</table>\n",
       "</div>"
      ],
      "text/plain": [
       "               forecast\n",
       "2022-11-01  1385.245320\n",
       "2022-12-01  -449.902670\n",
       "2023-01-01   822.951683\n",
       "2023-02-01   855.250806\n",
       "2023-03-01   371.836414\n",
       "2023-04-01  1146.314551\n",
       "2023-05-01  1014.865430\n",
       "2023-06-01  1096.412103"
      ]
     },
     "execution_count": 27,
     "metadata": {},
     "output_type": "execute_result"
    }
   ],
   "source": [
    "pred = predictions.to_frame().rename(columns = {0: 'date', 'predicted_mean': 'forecast'})\n",
    "pred"
   ]
  },
  {
   "cell_type": "code",
   "execution_count": 28,
   "id": "abd979ad-51f9-49c7-b919-292b132890d4",
   "metadata": {},
   "outputs": [
    {
     "name": "stdout",
     "output_type": "stream",
     "text": [
      "Mean Absolute Error (MAE): 748.5420235048389\n",
      "Mean Squared Error (MSE): 708506.7042820407\n",
      "Root Mean Squared Error (RMSE): 841.7284029198734\n"
     ]
    }
   ],
   "source": [
    "# Calculate accuracy metrics\n",
    "actual_values = test_df['amount']\n",
    "mae = np.mean(np.abs(predictions - actual_values))\n",
    "mse = np.mean((predictions - actual_values) ** 2)\n",
    "rmse = np.sqrt(mse)\n",
    "\n",
    "print(f\"Mean Absolute Error (MAE): {mae}\")\n",
    "print(f\"Mean Squared Error (MSE): {mse}\")\n",
    "print(f\"Root Mean Squared Error (RMSE): {rmse}\")"
   ]
  }
 ],
 "metadata": {
  "kernelspec": {
   "display_name": "Python 3 (ipykernel)",
   "language": "python",
   "name": "python3"
  },
  "language_info": {
   "codemirror_mode": {
    "name": "ipython",
    "version": 3
   },
   "file_extension": ".py",
   "mimetype": "text/x-python",
   "name": "python",
   "nbconvert_exporter": "python",
   "pygments_lexer": "ipython3",
   "version": "3.9.6"
  }
 },
 "nbformat": 4,
 "nbformat_minor": 5
}
